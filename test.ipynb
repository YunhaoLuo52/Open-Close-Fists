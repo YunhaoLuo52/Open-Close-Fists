{
 "cells": [
  {
   "cell_type": "code",
   "execution_count": 1,
   "id": "d130fc0e",
   "metadata": {},
   "outputs": [],
   "source": [
    "import numpy as np\n",
    "import pandas as pd\n",
    "import os"
   ]
  },
  {
   "cell_type": "code",
   "execution_count": 7,
   "id": "cc834967",
   "metadata": {},
   "outputs": [],
   "source": [
    "data_dir = \"C:\\Github\\OpenCloseFeet\\Muse_data_OpenCloseFeet_segmented\"\n",
    "tp9_file = f\"exp_1\\openclosefists_run1_TP9.csv\"\n",
    "\n",
    "df = pd.read_csv(os.path.join(data_dir, tp9_file), header=None).values"
   ]
  },
  {
   "cell_type": "code",
   "execution_count": 9,
   "id": "f57c00a1",
   "metadata": {},
   "outputs": [
    {
     "data": {
      "text/plain": [
       "(63, 1025)"
      ]
     },
     "execution_count": 9,
     "metadata": {},
     "output_type": "execute_result"
    }
   ],
   "source": [
    "df.shape"
   ]
  },
  {
   "cell_type": "code",
   "execution_count": 15,
   "id": "ab89962f",
   "metadata": {},
   "outputs": [
    {
     "name": "stdout",
     "output_type": "stream",
     "text": [
      "1025\n"
     ]
    }
   ],
   "source": [
    "print(len(df[1]))"
   ]
  },
  {
   "cell_type": "code",
   "execution_count": null,
   "id": "19498d4f",
   "metadata": {},
   "outputs": [],
   "source": []
  }
 ],
 "metadata": {
  "kernelspec": {
   "display_name": "EEGDiff",
   "language": "python",
   "name": "python3"
  },
  "language_info": {
   "codemirror_mode": {
    "name": "ipython",
    "version": 3
   },
   "file_extension": ".py",
   "mimetype": "text/x-python",
   "name": "python",
   "nbconvert_exporter": "python",
   "pygments_lexer": "ipython3",
   "version": "3.9.21"
  }
 },
 "nbformat": 4,
 "nbformat_minor": 5
}
