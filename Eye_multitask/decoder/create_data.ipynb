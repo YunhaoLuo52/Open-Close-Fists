{
 "cells": [
  {
   "cell_type": "code",
   "execution_count": null,
   "metadata": {},
   "outputs": [],
   "source": [
    "import pandas as pd\n",
    "import os\n",
    "from datetime import datetime\n",
    "import re\n",
    "import utils\n",
    "import numpy as np\n",
    "from main_openfists_feet import split_data_by_subject, epoch_all_subject_events"
   ]
  },
  {
   "cell_type": "code",
   "execution_count": 68,
   "metadata": {},
   "outputs": [
    {
     "name": "stdout",
     "output_type": "stream",
     "text": [
      "Experiment-1 (fists) files: [['/Users/hiro/Desktop/fun-website/decoder/EB-Data/sub-EB-43/Muse_data_OpenCloseFeet 2/sub-EB-43_EEG_recording_2025-06-08-19.46.10.csv'], ['/Users/hiro/Desktop/fun-website/decoder/EB-Data/sub-EB-43/Muse_data_OpenCloseFeet 2/sub-EB-43_EEG_recording_2025-06-08-20.11.07.csv']]\n",
      "Experiment-2 (feet)  files: [['/Users/hiro/Desktop/fun-website/decoder/EB-Data/sub-EB-43/Muse_data_OpenCloseFeet 2/sub-EB-43_EEG_recording_2025-06-08-19.57.52.csv'], ['/Users/hiro/Desktop/fun-website/decoder/EB-Data/sub-EB-43/Muse_data_OpenCloseFeet 2/sub-EB-43_EEG_recording_2025-06-08-20.24.28.csv']]\n"
     ]
    }
   ],
   "source": [
    "data_folder = \"/Users/hiro/Desktop/fun-website/decoder/EB-Data/sub-EB-43/Muse_data_OpenCloseFeet 2\"\n",
    "def extract_dt(path):\n",
    "    # sub-EB-43_EEG_recording_2025-06-08-19.57.52.csv\n",
    "    ts = re.search(r\"(\\d{4}-\\d{2}-\\d{2}-\\d{2}\\.\\d{2}\\.\\d{2})\", path).group(1)\n",
    "    return datetime.strptime(ts, \"%Y-%m-%d-%H.%M.%S\")\n",
    "\n",
    "\n",
    "eeg_paths = []\n",
    "for fname in os.listdir(data_folder):\n",
    "    if \"EEG\" in fname and \".csv\" in fname:\n",
    "        eeg_paths.append(os.path.join(data_folder, fname))\n",
    "eeg_paths.sort(key=extract_dt)\n",
    "exp1, exp2 = [], []\n",
    "for idx, fp in enumerate(eeg_paths): #0,1,2,3\n",
    "    (exp1 if idx % 2 == 0 else exp2).append([fp]) #even number is for open/close fists\n",
    "\n",
    "print(\"Experiment-1 (fists) files:\", exp1) #open/close fists\n",
    "print(\"Experiment-2 (feet)  files:\", exp2) #open/close feet\n",
    "\n"
   ]
  },
  {
   "cell_type": "code",
   "execution_count": 69,
   "metadata": {},
   "outputs": [],
   "source": [
    "CODEMAP = {\n",
    "    1: {\"target\": 101, \"non-target\": 201, \"prefix\": \"openclosefists\"},\n",
    "    2: {\"target\": 102, \"non-target\": 202, \"prefix\": \"openclosefeet\"},\n",
    "}"
   ]
  },
  {
   "cell_type": "code",
   "execution_count": 70,
   "metadata": {},
   "outputs": [],
   "source": [
    "filter=False\n",
    "h_freq=30.0\n",
    "l_freq=0.0"
   ]
  },
  {
   "cell_type": "code",
   "execution_count": 71,
   "metadata": {},
   "outputs": [
    {
     "name": "stdout",
     "output_type": "stream",
     "text": [
      "Loaded /Users/hiro/Desktop/fun-website/decoder/EB-Data/sub-EB-43/Muse_data_OpenCloseFeet 2/sub-EB-43_EEG_recording_2025-06-08-19.46.10.csv with shape (69192, 6)\n",
      "Creating RawArray with float64 data, n_channels=5, n_times=69192\n",
      "    Range : 0 ... 69191 =      0.000 ...   270.277 secs\n",
      "Ready.\n",
      "Loaded /Users/hiro/Desktop/fun-website/decoder/EB-Data/sub-EB-43/Muse_data_OpenCloseFeet 2/sub-EB-43_EEG_recording_2025-06-08-20.11.07.csv with shape (117840, 6)\n",
      "Creating RawArray with float64 data, n_channels=5, n_times=117840\n",
      "    Range : 0 ... 117839 =      0.000 ...   460.309 secs\n",
      "Ready.\n",
      "Loaded /Users/hiro/Desktop/fun-website/decoder/EB-Data/sub-EB-43/Muse_data_OpenCloseFeet 2/sub-EB-43_EEG_recording_2025-06-08-19.57.52.csv with shape (114744, 6)\n",
      "Creating RawArray with float64 data, n_channels=5, n_times=114744\n",
      "    Range : 0 ... 114743 =      0.000 ...   448.215 secs\n",
      "Ready.\n",
      "Loaded /Users/hiro/Desktop/fun-website/decoder/EB-Data/sub-EB-43/Muse_data_OpenCloseFeet 2/sub-EB-43_EEG_recording_2025-06-08-20.24.28.csv with shape (111120, 6)\n",
      "Creating RawArray with float64 data, n_channels=5, n_times=111120\n",
      "    Range : 0 ... 111119 =      0.000 ...   434.059 secs\n",
      "Ready.\n",
      "64 events found on stim channel Stim\n",
      "Event IDs: [101 201]\n",
      "Not setting metadata\n",
      "64 matching events found\n",
      "No baseline correction applied\n",
      "0 projection items activated\n",
      "Using data from preloaded Raw for 64 events and 1025 original time points ...\n",
      "1 bad epochs dropped\n",
      "100 events found on stim channel Stim\n",
      "Event IDs: [101 201]\n",
      "Not setting metadata\n",
      "100 matching events found\n",
      "No baseline correction applied\n",
      "0 projection items activated\n",
      "Using data from preloaded Raw for 100 events and 1025 original time points ...\n",
      "0 bad epochs dropped\n",
      "100 events found on stim channel Stim\n",
      "Event IDs: [102 202]\n",
      "Not setting metadata\n",
      "100 matching events found\n",
      "No baseline correction applied\n",
      "0 projection items activated\n",
      "Using data from preloaded Raw for 100 events and 1025 original time points ...\n",
      "0 bad epochs dropped\n",
      "100 events found on stim channel Stim\n",
      "Event IDs: [102 202]\n",
      "Not setting metadata\n",
      "100 matching events found\n",
      "No baseline correction applied\n",
      "0 projection items activated\n",
      "Using data from preloaded Raw for 100 events and 1025 original time points ...\n",
      "0 bad epochs dropped\n"
     ]
    }
   ],
   "source": [
    "exp_1 = split_data_by_subject(exp1)\n",
    "exp_2 = split_data_by_subject(exp2)\n",
    "epochs_list_1 = epoch_all_subject_events(\n",
    "    exp_1, CODEMAP[1], 1, tmax=4, filter=filter, h_freq=h_freq, l_freq=l_freq\n",
    ")\n",
    "epochs_list_2 = epoch_all_subject_events(\n",
    "    exp_2, CODEMAP[2], 2, tmax=4, filter=filter, h_freq=h_freq, l_freq=l_freq\n",
    ")\n"
   ]
  },
  {
   "cell_type": "code",
   "execution_count": null,
   "metadata": {},
   "outputs": [
    {
     "name": "stdout",
     "output_type": "stream",
     "text": [
      "[openclosefists] run1: 导出 63 段 × 1024 samples\n",
      "[openclosefists] run2: 导出 100 段 × 1024 samples\n",
      "[openclosefeet] run1: 导出 100 段 × 1024 samples\n",
      "[openclosefeet] run2: 导出 100 段 × 1024 samples\n"
     ]
    }
   ],
   "source": [
    "from itertools import chain\n",
    "\n",
    "OUT_ROOT = \"/Users/hiro/Desktop/fun-website/decoder/EB-Data/sub-EB-43/\" \\\n",
    "           \"Muse_data_OpenCloseFeet 2/Muse_data_OpenCloseFeet_segmented\"\n",
    "\n",
    "os.makedirs(OUT_ROOT, exist_ok=True)         \n",
    "\n",
    "PREFIX_MAP  = {1: \"openclosefists\", 2: \"openclosefeet\"}\n",
    "CHANNELS    = [\"TP9\", \"AF7\", \"AF8\", \"TP10\"]\n",
    "TARGET_CODE = \"Target\"\n",
    "\n",
    "CODEMAP = {                            \n",
    "    1: {\"target\": 101, \"non-target\": 201},\n",
    "    2: {\"target\": 102, \"non-target\": 202},\n",
    "}\n",
    "\n",
    "def export_epochs_to_csv(\n",
    "        epochs_list,\n",
    "        prefix: str,\n",
    "        out_dir: str,\n",
    "        channels=CHANNELS,\n",
    "        target_label: str = TARGET_CODE,\n",
    "):\n",
    "\n",
    "    os.makedirs(out_dir, exist_ok=True)\n",
    "\n",
    "    # flatten to 1D\n",
    "    flat_epochs = (list(chain.from_iterable(epochs_list))\n",
    "                   if isinstance(epochs_list[0], (list, tuple))\n",
    "                   else epochs_list)\n",
    "\n",
    "    for run_idx, epochs in enumerate(flat_epochs, start=1):     # run1, run2…\n",
    "        # create channel csv files\n",
    "        for ch in channels:\n",
    "            data = epochs.get_data(picks=[ch])        # (n_events, 1, 1024)\n",
    "            arr  = np.squeeze(data, axis=1)           # (n_events, 1024)\n",
    "            out_path = os.path.join(out_dir,\n",
    "                          f\"{prefix}_run{run_idx}_{ch}.csv\")\n",
    "            pd.DataFrame(arr).to_csv(out_path, index=False, header=False)\n",
    "\n",
    "        # label csv\n",
    "        labels = (epochs.events[:, 2] == epochs.event_id[target_label]).astype(int)\n",
    "        lab_path = os.path.join(out_dir, f\"run_{run_idx}_label.csv\")\n",
    "        pd.Series(labels).to_csv(lab_path, index=False, header=False)\n",
    "\n",
    "        print(f\"[{prefix}] run{run_idx}: exports {len(labels)}  × 1024 samples\")\n",
    "\n",
    "export_epochs_to_csv(\n",
    "    epochs_list_1,\n",
    "    prefix=PREFIX_MAP[1],\n",
    "    out_dir=os.path.join(OUT_ROOT, \"exp_1\")   # fists\n",
    ")\n",
    "\n",
    "export_epochs_to_csv(\n",
    "    epochs_list_2,\n",
    "    prefix=PREFIX_MAP[2],\n",
    "    out_dir=os.path.join(OUT_ROOT, \"exp_2\")   # feet\n",
    ")\n"
   ]
  },
  {
   "cell_type": "code",
   "execution_count": null,
   "metadata": {},
   "outputs": [],
   "source": []
  }
 ],
 "metadata": {
  "kernelspec": {
   "display_name": ".venv",
   "language": "python",
   "name": "python3"
  },
  "language_info": {
   "codemirror_mode": {
    "name": "ipython",
    "version": 3
   },
   "file_extension": ".py",
   "mimetype": "text/x-python",
   "name": "python",
   "nbconvert_exporter": "python",
   "pygments_lexer": "ipython3",
   "version": "3.11.5"
  },
  "orig_nbformat": 4
 },
 "nbformat": 4,
 "nbformat_minor": 2
}
